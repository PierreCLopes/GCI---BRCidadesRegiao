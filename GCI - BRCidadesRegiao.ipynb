{
 "cells": [
  {
   "cell_type": "code",
   "execution_count": 3,
   "metadata": {},
   "outputs": [],
   "source": [
    "import pandas as pd\n",
    "import numpy as np"
   ]
  },
  {
   "cell_type": "code",
   "execution_count": 5,
   "metadata": {},
   "outputs": [],
   "source": [
    "cidades = pd.read_excel('BRCidadesRegiao.xlsx').query('estado in [\"DF\", \"BA\", \"ES\"]')"
   ]
  },
  {
   "cell_type": "code",
   "execution_count": 6,
   "metadata": {},
   "outputs": [],
   "source": [
    "import seaborn as sns"
   ]
  },
  {
   "cell_type": "code",
   "execution_count": 7,
   "metadata": {},
   "outputs": [],
   "source": [
    "from statsmodels.stats.outliers_influence import variance_inflation_factor"
   ]
  },
  {
   "cell_type": "code",
   "execution_count": 8,
   "metadata": {},
   "outputs": [
    {
     "data": {
      "text/html": [
       "<div>\n",
       "<style scoped>\n",
       "    .dataframe tbody tr th:only-of-type {\n",
       "        vertical-align: middle;\n",
       "    }\n",
       "\n",
       "    .dataframe tbody tr th {\n",
       "        vertical-align: top;\n",
       "    }\n",
       "\n",
       "    .dataframe thead th {\n",
       "        text-align: right;\n",
       "    }\n",
       "</style>\n",
       "<table border=\"1\" class=\"dataframe\">\n",
       "  <thead>\n",
       "    <tr style=\"text-align: right;\">\n",
       "      <th></th>\n",
       "      <th>variavel</th>\n",
       "      <th>VIF</th>\n",
       "    </tr>\n",
       "  </thead>\n",
       "  <tbody>\n",
       "    <tr>\n",
       "      <th>0</th>\n",
       "      <td>area_territorial</td>\n",
       "      <td>1.531610</td>\n",
       "    </tr>\n",
       "    <tr>\n",
       "      <th>1</th>\n",
       "      <td>populacao_estimada</td>\n",
       "      <td>15.861715</td>\n",
       "    </tr>\n",
       "    <tr>\n",
       "      <th>2</th>\n",
       "      <td>densidade_demografica</td>\n",
       "      <td>2.166164</td>\n",
       "    </tr>\n",
       "    <tr>\n",
       "      <th>3</th>\n",
       "      <td>pib_per_capita</td>\n",
       "      <td>1.604045</td>\n",
       "    </tr>\n",
       "    <tr>\n",
       "      <th>4</th>\n",
       "      <td>idhm</td>\n",
       "      <td>2.012212</td>\n",
       "    </tr>\n",
       "    <tr>\n",
       "      <th>5</th>\n",
       "      <td>carros</td>\n",
       "      <td>12.326811</td>\n",
       "    </tr>\n",
       "  </tbody>\n",
       "</table>\n",
       "</div>"
      ],
      "text/plain": [
       "                variavel        VIF\n",
       "0       area_territorial   1.531610\n",
       "1     populacao_estimada  15.861715\n",
       "2  densidade_demografica   2.166164\n",
       "3         pib_per_capita   1.604045\n",
       "4                   idhm   2.012212\n",
       "5                 carros  12.326811"
      ]
     },
     "execution_count": 8,
     "metadata": {},
     "output_type": "execute_result"
    }
   ],
   "source": [
    "vif = cidades[['area_territorial', 'populacao_estimada', 'densidade_demografica', 'pib_per_capita', 'idhm','carros']]\n",
    "vif = vif.replace([np.inf, -np.inf], np.nan).dropna().copy()\n",
    "vif_data = pd.DataFrame()\n",
    "vif_data['variavel'] = vif.columns\n",
    "vif_data['VIF'] = [variance_inflation_factor(vif.values, i) for i in range(len(vif.columns))]\n",
    "vif_data"
   ]
  },
  {
   "cell_type": "code",
   "execution_count": 9,
   "metadata": {},
   "outputs": [],
   "source": [
    "from scipy.stats import mstats\n",
    "limite_superior = np.percentile(cidades['area_territorial'], 95)\n",
    "cidades['area_territorial'] = mstats.winsorize(cidades['area_territorial'], limits=(None, 0.05))"
   ]
  },
  {
   "cell_type": "code",
   "execution_count": 70,
   "metadata": {},
   "outputs": [
    {
     "data": {
      "text/plain": [
       "Index(['Unnamed: 0.2', 'Unnamed: 0', 'Unnamed: 0.1', 'municipio', 'codigo',\n",
       "       'area_territorial', 'populacao_estimada', 'densidade_demografica',\n",
       "       'escolarizacao', 'idhm', 'mortalidade_infantil', 'pib_per_capita', 'uf',\n",
       "       'receitas_realizadas', 'despesas_empenhadas', 'saldo_receitas_despesas',\n",
       "       'cidade', 'estado', 'longitude', 'latitude', 'altitude', 'unidades',\n",
       "       'unidades_urbanas', 'unidades_rurais', 'area_plantada',\n",
       "       'producao_graos', 'IDHM_Renda', 'IDHM_Longevidade', 'IDHM_Educacao',\n",
       "       'tipo_rural_urbano', 'GVA_agropecuaria', 'GVA_industria',\n",
       "       'GVA_Servicos', 'GVA_publico', 'GDP', 'GDP_populacao', 'GDP_per_capita',\n",
       "       'estabelecimentos', 'carros', 'motos', 'regiao_imediata'],\n",
       "      dtype='object')"
      ]
     },
     "execution_count": 70,
     "metadata": {},
     "output_type": "execute_result"
    }
   ],
   "source": [
    "cidades.columns"
   ]
  }
 ],
 "metadata": {
  "kernelspec": {
   "display_name": "Python 3",
   "language": "python",
   "name": "python3"
  },
  "language_info": {
   "codemirror_mode": {
    "name": "ipython",
    "version": 3
   },
   "file_extension": ".py",
   "mimetype": "text/x-python",
   "name": "python",
   "nbconvert_exporter": "python",
   "pygments_lexer": "ipython3",
   "version": "3.8.16"
  },
  "orig_nbformat": 4
 },
 "nbformat": 4,
 "nbformat_minor": 2
}
